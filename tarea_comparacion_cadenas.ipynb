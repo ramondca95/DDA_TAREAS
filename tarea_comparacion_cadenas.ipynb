{
 "cells": [
  {
   "cell_type": "markdown",
   "metadata": {
    "collapsed": true,
    "pycharm": {
     "name": "#%% md\n"
    }
   },
   "source": [
    "___\n",
    "### <center>UNIVERSIDAD NACIONAL AUTÓNOMA DE MÉXICO <center/>\n",
    "# <center>DDA: COMPARACIÓN DE CADENAS <center/>\n",
    "### <center>Hecha por: Ramón Daniel Cota Aguiar<center/>\n",
    "\n",
    "\n",
    "\n",
    "Para un alfabeto de dos símbolos ($0,1$) ($M=2$), secuencias de longitud $L = 20$ y $R = [1,2,3,4,5,..., 15]$\n",
    "calcular $P_m$ en función de $R$ para dos casos:\n",
    "\n",
    "- Con desplazamiento\n",
    "- Sin desplazamiento\n",
    "\n",
    "Para cada valor $R$, llevar a cabo $K=30$ experimentos $MC$:\n",
    "\n",
    "- Sean $S_0$ y $S_1$ dos secuencias de longitur $L$ generada al azar a partir de los $M$ símbolos en el\n",
    "alfabeto. Comparar ¿Existe una secuencia de $R$ posiciones que coincidan?\n",
    "\n",
    "La probabilidad $P_M(R)$ es el número de secuencias para las cuáles la respuesta a la pregunta es verdadera\n",
    "dividida entre $K$.\n",
    "\n",
    "![](captura1.jpg)\n"
   ]
  },
  {
   "cell_type": "code",
   "execution_count": 1,
   "metadata": {
    "pycharm": {
     "name": "#%%\n"
    }
   },
   "outputs": [],
   "source": [
    "import random\n",
    "from collections import Counter\n",
    "from tabulate import tabulate\n",
    "import pandas as pd\n",
    "import matplotlib.pyplot as plt"
   ]
  },
  {
   "cell_type": "markdown",
   "metadata": {},
   "source": [
    "## Secuencias de ejemplo\n",
    "\n",
    "Primero hacemos pruebas creando un solo par de secuencias a las que llamaremos **secuence0** ($S_0$) y **secuence1** ($S_1$). Estas se generarán eligiendo de manera aleatoria los elementos del alfabeto que en este caso son [$0,1$]."
   ]
  },
  {
   "cell_type": "code",
   "execution_count": 98,
   "metadata": {
    "pycharm": {
     "name": "#%%secuence_0 = []\n"
    }
   },
   "outputs": [
    {
     "name": "stdout",
     "output_type": "stream",
     "text": [
      "SECUENCIAS DE EJEMPLO: \n",
      "\n",
      " [1, 0, 0, 0, 0, 1, 1, 0, 0, 0, 0, 1, 0, 1, 0, 0, 1, 0, 0, 1]\n",
      "\n",
      " [0, 1, 0, 1, 0, 1, 1, 1, 0, 0, 0, 0, 0, 0, 1, 0, 0, 1, 0, 0]\n"
     ]
    }
   ],
   "source": [
    "secuence_0 = []\n",
    "for i in range(0,20):\n",
    "    secuence_0.append(random.randint(0,1))\n",
    "\n",
    "secuence_1 = []\n",
    "for i in range(0,20):\n",
    "    secuence_1.append(random.randint(0,1))\n",
    "\n",
    "print(\"SECUENCIAS DE EJEMPLO: \")\n",
    "print(\"\\n\", secuence_0)\n",
    "print(\"\\n\", secuence_1)"
   ]
  },
  {
   "cell_type": "markdown",
   "metadata": {},
   "source": [
    "## Comparación Sin Desplazamiento\n",
    "\n",
    "Se comparan ambas secuencias para identificar si existe algún patrón binario en común de longitud  $R = [1,2,3,...,15]$. Para ello hacemos un barrido que comparará los índices de las listas. En donde se comparará el mismo índice de uno con el del otro.\n",
    "\n",
    "\n"
   ]
  },
  {
   "cell_type": "code",
   "execution_count": 131,
   "metadata": {
    "pycharm": {
     "name": "#%%\n"
    }
   },
   "outputs": [
    {
     "name": "stdout",
     "output_type": "stream",
     "text": [
      "[1, 1, 1, 1, 1, 1, 1, 1, 1, 1, 2, 2, 2, 2, 3, 3]\n"
     ]
    }
   ],
   "source": [
    "lista_sm = []\n",
    "for i in range(0,20):\n",
    "    for j in range(i+1,21):\n",
    "        if secuence_0[i:j] == secuence_1[i:j]:\n",
    "            lista_sm.append(len(secuence_0[i:j]))\n",
    "            lista_sm.sort()\n",
    "print(lista_sm)"
   ]
  },
  {
   "cell_type": "markdown",
   "metadata": {},
   "source": [
    "## Comparación Con Desplazamiento\n",
    "\n",
    "Ahora se compararán las dos secuencias, pero una se desplazará y comparará si existe alguna secuencia de longitud $R$ con ese nuevo desplazamiento. "
   ]
  },
  {
   "cell_type": "code",
   "execution_count": 121,
   "metadata": {
    "pycharm": {
     "name": "#%%\n"
    }
   },
   "outputs": [
    {
     "name": "stdout",
     "output_type": "stream",
     "text": [
      "[1, 1, 1, 1, 1, 1, 1, 1, 1, 1, 1, 1, 1, 1, 1, 1, 1, 1, 1, 1, 1, 1, 1, 1, 1, 1, 1, 1, 1, 1, 1, 1, 1, 1, 1, 1, 1, 1, 1, 1, 1, 1, 1, 1, 1, 1, 1, 1, 1, 1, 1, 1, 1, 1, 1, 1, 1, 1, 1, 1, 1, 1, 1, 1, 1, 1, 1, 1, 1, 1, 1, 1, 1, 1, 1, 1, 1, 1, 1, 1, 1, 1, 1, 1, 1, 1, 1, 1, 1, 1, 1, 1, 1, 1, 1, 1, 1, 1, 1, 1, 1, 1, 1, 1, 1, 1, 1, 1, 1, 1, 1, 1, 1, 1, 1, 1, 1, 1, 1, 1, 1, 1, 1, 1, 1, 1, 1, 1, 1, 1, 1, 1, 1, 1, 1, 1, 1, 1, 1, 1, 1, 1, 1, 1, 1, 1, 1, 1, 1, 1, 1, 1, 1, 1, 1, 1, 1, 1, 1, 1, 1, 1, 1, 1, 1, 1, 1, 1, 1, 1, 1, 1, 1, 1, 1, 1, 1, 1, 1, 1, 1, 1, 1, 1, 1, 1, 1, 1, 1, 1, 1, 1, 1, 1, 1, 1, 1, 1, 1, 1, 1, 1, 1, 1, 1, 1, 1, 1, 1, 1, 1, 1, 1, 1, 1, 1, 1, 1, 2, 2, 2, 2, 2, 2, 2, 2, 2, 2, 2, 2, 2, 2, 2, 2, 2, 2, 2, 2, 2, 2, 2, 2, 2, 2, 2, 2, 2, 2, 2, 2, 2, 2, 2, 2, 2, 2, 2, 2, 2, 2, 2, 2, 2, 2, 2, 2, 2, 2, 2, 2, 2, 2, 2, 2, 2, 2, 2, 2, 2, 2, 2, 2, 2, 2, 2, 2, 2, 2, 2, 2, 2, 2, 2, 2, 2, 2, 2, 2, 2, 2, 2, 2, 2, 2, 2, 2, 2, 2, 2, 2, 2, 2, 2, 2, 2, 2, 2, 2, 2, 2, 2, 2, 2, 2, 2, 2, 3, 3, 3, 3, 3, 3, 3, 3, 3, 3, 3, 3, 3, 3, 3, 3, 3, 3, 3, 3, 3, 3, 3, 3, 3, 3, 3, 3, 3, 3, 3, 3, 3, 3, 3, 3, 3, 3, 3, 3, 3, 3, 3, 3, 3, 3, 3, 3, 3, 3, 3, 3, 4, 4, 4, 4, 4, 4, 4, 4, 4, 4, 4, 4, 4, 4, 4, 4, 4, 4, 4, 4, 4, 4, 4, 4, 5, 5, 5, 5, 5, 5, 5, 5, 5, 5, 5, 5, 6, 6, 6, 6, 6, 7]\n"
     ]
    }
   ],
   "source": [
    "lista_cm = []\n",
    "for i in range(1,16):\n",
    "    for j in range(0,21-i):\n",
    "        for k in range(0,21-i):\n",
    "            if secuence_0[j:j+i] == secuence_1[k:k+i]:\n",
    "                lista_cm.append(len(secuence_1[k:k+i]))\n",
    "print(lista_cm)"
   ]
  },
  {
   "cell_type": "markdown",
   "metadata": {},
   "source": [
    "___\n",
    "## <center>FUNCIONES<center/>\n",
    "___\n"
   ]
  },
  {
   "cell_type": "code",
   "execution_count": 132,
   "metadata": {
    "pycharm": {
     "name": "#%%\n"
    }
   },
   "outputs": [
    {
     "name": "stdout",
     "output_type": "stream",
     "text": [
      "Comparativo de prueba\n",
      "Lista de coincidencias de R: \t [1, 1, 1, 1, 1, 1, 1, 1, 1, 1, 2, 2, 2, 2, 3, 3]\n",
      "Lista con la función unique: \t [1, 2, 3]\n"
     ]
    }
   ],
   "source": [
    "def unique(list1):\n",
    "    \"\"\"\n",
    "    Debido a que las listas guardarán la longitud de R cada vez que estas coincidan, habrá al final una lista de números repetidos\n",
    "    debido a que R puede coincidir más de una vez. Por lo tanto, si nuestra lista fuera: L = [1,1,1,2,2,3]. Regresaría una lista L_return = [1,2,3].\n",
    "    :param list1: Debe ser una lista con únicamente valores numéricos.\n",
    "    :return: unique_list: Una lista de únicamente los valores repetidos.\n",
    "    \"\"\"\n",
    "    list_set = set(list1)\n",
    "    unique_list = (list(list_set))\n",
    "    return unique_list\n",
    "\n",
    "print(\"Prueba de la función\")\n",
    "print(\"Lista de coincidencias de R: \\t\", lista_sm)\n",
    "print(\"Lista con la función unique: \\t\", unique(lista_sm))"
   ]
  },
  {
   "cell_type": "code",
   "execution_count": 160,
   "metadata": {
    "pycharm": {
     "name": "#%%\n"
    }
   },
   "outputs": [
    {
     "name": "stdout",
     "output_type": "stream",
     "text": [
      "Prueba de la función realizada 3 veces\n",
      "\n",
      " Lista Sin Desplazamiento:\t [[1, 2], [1, 2, 3], [1, 2, 3]]\n",
      "\n",
      " Lista Con Desplazamiento:\t [[1, 2, 3, 4, 5, 6], [1, 2, 3, 4, 5, 6], [1, 2, 3, 4, 5, 6, 7, 8, 9]]\n"
     ]
    }
   ],
   "source": [
    "def monte_carlo(montecarlo):\n",
    "    \"\"\"\n",
    "    Esta función repite los experimentos las veces que la variable montecarlo indique.\n",
    "\n",
    "    Se comienzan por 2 listas vacías que se llenarán con el valor de R, es decir, el número de posiciones contiguas en las que coinciden las secuencias secuence_0 y secuence_1. Para ello se hace primero un barrido de las secuencias índice(s) por índice(s). Es decir, se compararán secuence_0[R] y secuence[R]. Posterior a esto se guardan las R en que coindicen y se realiza la comparación pero ahora con R desplazada. Es decir, secuence_0[R] con secuence_1[R+i], siendo i cualquier valor entre 0 y 20 en el menor valor de R y 0 y 5 en el mayor valor de R.\n",
    "    :param montecarlo: Número de veces que se repetirá el experimento.\n",
    "    :return: listas ordenadas de R coincidentes.\n",
    "    \"\"\"\n",
    "    lista_sm = []\n",
    "    lista_cm = []\n",
    "    # montecarlo = 30\n",
    "    for l in range(0,montecarlo):\n",
    "        secuence_0 = []\n",
    "        for i in range(0,20):\n",
    "            secuence_0.append(random.randint(0,1))\n",
    "\n",
    "        secuence_1 = []\n",
    "        for i in range(0,20):\n",
    "            secuence_1.append(random.randint(0,1))\n",
    "\n",
    "        ########\n",
    "        lista2 = []\n",
    "        for i in range(0,20):\n",
    "            for j in range(i+1,21):\n",
    "                if secuence_0[i:j] == secuence_1[i:j]:\n",
    "                    lista2.append(len(secuence_0[i:j]))\n",
    "                    lista2.sort()\n",
    "        # lista_sm.append(max(lista2))\n",
    "        lista_sm.append(unique(lista2))\n",
    "        lista_sm.sort()\n",
    "        ########\n",
    "        lista3 = []\n",
    "        for i in range(1,16):\n",
    "            for j in range(0,21-i):\n",
    "                for k in range(0,21-i):\n",
    "                    if secuence_0[j:j+i] == secuence_1[k:k+i]:\n",
    "                        lista3.append(len(secuence_1[k:k+i]))\n",
    "        # lista_cm.append(max(lista3))\n",
    "        lista_cm.append(unique(lista3))\n",
    "        lista_cm.sort()\n",
    "    return lista_sm, lista_cm\n",
    "\n",
    "print(\"Prueba de la función realizada 3 veces\")\n",
    "lista_sm, lista_cm = monte_carlo(3)\n",
    "print(\"\\n Lista Sin Desplazamiento:\\t\", lista_sm)\n",
    "print(\"\\n Lista Con Desplazamiento:\\t\", lista_cm)"
   ]
  },
  {
   "cell_type": "code",
   "execution_count": 161,
   "metadata": {
    "pycharm": {
     "name": "#%%\n"
    }
   },
   "outputs": [
    {
     "name": "stdout",
     "output_type": "stream",
     "text": [
      "Comparativo de prueba\n",
      "Lista de listas de R realizado 3 veces: \n",
      "\n",
      " [[1, 2], [1, 2, 3], [1, 2, 3]]\n",
      "\n",
      "Lista solo con las R de todas las repeticiones\n",
      "\n",
      " [1, 1, 1, 2, 2, 2, 3, 3]\n"
     ]
    }
   ],
   "source": [
    "def list_hist(lista_de_listas, montecarlo):\n",
    "    \"\"\"\n",
    "    Al ser una lista de listas, debemos extraer cada lista externa para hacer una lista total de todas las R coincidentes.\n",
    "    :param lista_de_listas:\n",
    "    :return: lista de elementos de la lista.\n",
    "    \"\"\"\n",
    "    lista = []\n",
    "    for r in range(0,montecarlo):\n",
    "        for p in range(0,len(lista_de_listas[r])):\n",
    "            lista.append(lista_de_listas[r][p])\n",
    "    lista.sort()\n",
    "    return lista\n",
    "\n",
    "print(\"Comparativo de prueba\")\n",
    "print(\"Lista de listas de R realizado 3 veces: \")\n",
    "print(\"\\n\", lista_sm)\n",
    "print(\"\\nLista solo con las R de todas las repeticiones\")\n",
    "print(\"\\n\", list_hist(lista_sm,3))"
   ]
  },
  {
   "cell_type": "code",
   "execution_count": 162,
   "metadata": {
    "pycharm": {
     "name": "#%%\n"
    }
   },
   "outputs": [
    {
     "name": "stdout",
     "output_type": "stream",
     "text": [
      "   R |   frecuencia\n",
      "-----+--------------\n",
      "   1 |            3\n",
      "   2 |            3\n",
      "   3 |            2\n"
     ]
    },
    {
     "data": {
      "text/plain": "<Figure size 864x504 with 1 Axes>",
      "image/png": "[encoded data removed]"
     },
     "metadata": {
      "needs_background": "light"
     },
     "output_type": "display_data"
    }
   ],
   "source": [
    "def tab_plt_hist(lista_cm,montecarlo,Title):\n",
    "    \"\"\"\n",
    "    Función para crear el DataFrame e imprimir tanto la tabla como el histograma.\n",
    "    :param lista_cm:lista de listas\n",
    "    :param montecarlo: número de veces que se realizaron.\n",
    "    :return:DataFrame\n",
    "    \"\"\"\n",
    "    list_counter = Counter(list_hist(lista_cm,montecarlo))\n",
    "    df = pd.DataFrame.from_dict(list_counter, orient = 'index')\n",
    "    print(tabulate(df,headers=['R', 'frecuencia'],tablefmt=\"presto\"))\n",
    "    df.plot(kind='bar', figsize=(12, 7),  fontsize=15,title = Title + \" \" + str(montecarlo) + \" veces\" )\n",
    "    plt.legend('Frecuencia')\n",
    "    plt.xlabel('R')\n",
    "    plt.ylabel('Frecuencia')\n",
    "    return df\n",
    "\n",
    "df = tab_plt_hist(lista_sm,3,\"Sin Desplazamiento\")"
   ]
  },
  {
   "cell_type": "code",
   "execution_count": 163,
   "metadata": {
    "pycharm": {
     "name": "#%%\n"
    }
   },
   "outputs": [
    {
     "data": {
      "text/plain": "<Figure size 864x504 with 1 Axes>",
      "image/png": "[encoded data removed]"
     },
     "metadata": {
      "needs_background": "light"
     },
     "output_type": "display_data"
    }
   ],
   "source": [
    "def porcentaje_hist(df, montecarlo,  Title):\n",
    "    \"\"\"\n",
    "    Función para plotear el histograma con los porcentajes para cada R.\n",
    "    \"\"\"\n",
    "    lista = []\n",
    "    suma_total = montecarlo\n",
    "    for i in (df[0]):\n",
    "        lista.append(i/suma_total)\n",
    "    df['probabilidad'] = lista\n",
    "    df.plot(kind='bar', y = 'probabilidad', figsize=(12, 7),  fontsize=15, facecolor='darkgoldenrod')\n",
    "    plt.title(Title + \" \" + str(montecarlo) + \" veces\")\n",
    "    plt.xlabel('R')\n",
    "    plt.ylabel('Probabilidad')\n",
    "\n",
    "porcentaje_hist(df,3,\"Sin Desplazamiento\")"
   ]
  },
  {
   "cell_type": "markdown",
   "metadata": {},
   "source": [
    "___\n",
    "## <center> RESULTADOS <center/>\n",
    "___"
   ]
  },
  {
   "cell_type": "code",
   "execution_count": 170,
   "metadata": {
    "pycharm": {
     "name": "#%%\n"
    }
   },
   "outputs": [],
   "source": [
    "montecarlo = 30\n",
    "lista_sm, lista_cm = monte_carlo(montecarlo)"
   ]
  },
  {
   "cell_type": "code",
   "execution_count": 171,
   "metadata": {
    "pycharm": {
     "name": "#%%\n"
    }
   },
   "outputs": [
    {
     "name": "stdout",
     "output_type": "stream",
     "text": [
      "   R |   frecuencia\n",
      "-----+--------------\n",
      "   1 |           30\n",
      "   2 |           30\n",
      "   3 |           30\n",
      "   4 |           30\n",
      "   5 |           30\n",
      "   6 |           27\n",
      "   7 |           18\n",
      "   8 |            6\n",
      "   9 |            2\n"
     ]
    },
    {
     "data": {
      "text/plain": "<Figure size 864x504 with 1 Axes>",
      "image/png": "[encoded data removed]"
     },
     "metadata": {
      "needs_background": "light"
     },
     "output_type": "display_data"
    },
    {
     "data": {
      "text/plain": "<Figure size 864x504 with 1 Axes>",
      "image/png": "[encoded data removed]"
     },
     "metadata": {
      "needs_background": "light"
     },
     "output_type": "display_data"
    }
   ],
   "source": [
    "df = tab_plt_hist(lista_cm,montecarlo,\"CON DESPLAZAMIENTO\")\n",
    "porcentaje_hist(df,montecarlo, \"CON DESPLAZAMIENTO\")"
   ]
  },
  {
   "cell_type": "code",
   "execution_count": 172,
   "metadata": {
    "pycharm": {
     "name": "#%%\n"
    }
   },
   "outputs": [
    {
     "name": "stdout",
     "output_type": "stream",
     "text": [
      "   R |   frecuencia\n",
      "-----+--------------\n",
      "   1 |           30\n",
      "   2 |           29\n",
      "   3 |           23\n",
      "   4 |           13\n",
      "   5 |            8\n",
      "   6 |            3\n",
      "   7 |            1\n"
     ]
    },
    {
     "data": {
      "text/plain": "<Figure size 864x504 with 1 Axes>",
      "image/png": "[encoded data removed]"
     },
     "metadata": {
      "needs_background": "light"
     },
     "output_type": "display_data"
    },
    {
     "data": {
      "text/plain": "<Figure size 864x504 with 1 Axes>",
      "image/png": "[encoded data removed]"
     },
     "metadata": {
      "needs_background": "light"
     },
     "output_type": "display_data"
    }
   ],
   "source": [
    "df = tab_plt_hist(lista_sm,montecarlo,'SIN DESPLAZAMIENTO')\n",
    "porcentaje_hist(df,montecarlo, 'SIN DESPLAZAMIENTO')"
   ]
  }
 ],
 "metadata": {
  "kernelspec": {
   "display_name": "MiEntorno",
   "language": "python",
   "name": "mientorno"
  },
  "language_info": {
   "codemirror_mode": {
    "name": "ipython",
    "version": 3
   },
   "file_extension": ".py",
   "mimetype": "text/x-python",
   "name": "python",
   "nbconvert_exporter": "python",
   "pygments_lexer": "ipython3",
   "version": "3.6.10"
  }
 },
 "nbformat": 4,
 "nbformat_minor": 1
}